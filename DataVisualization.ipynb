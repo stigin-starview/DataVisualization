{
 "cells": [
  {
   "cell_type": "code",
   "execution_count": 9,
   "id": "fa357ee8",
   "metadata": {},
   "outputs": [],
   "source": [
    "#creating a basic bokeh line graph (basic)\n",
    "\n",
    "#importing bokeh\n",
    "from bokeh.plotting import figure\n",
    "from bokeh.io import output_file, show\n",
    "\n",
    "#Data for line graph\n",
    "x = [1,2,3,4,5,6,7,8]\n",
    "y = [6,80,100,60,10,30,5,60]\n",
    "\n",
    "#preparing the output file\n",
    "output_file(\"lineGraph.html\")\n",
    "\n",
    "#create a figure object\n",
    "f=figure()\n",
    "\n",
    "#create a line plot\n",
    "f.triangle(x,y)\n",
    "\n",
    "show(f)\n",
    "\n"
   ]
  },
  {
   "cell_type": "code",
   "execution_count": 10,
   "id": "92542d3c",
   "metadata": {},
   "outputs": [],
   "source": [
    "#creating a basic bokeh line graph form csv file\n",
    "\n",
    "#importing bokeh and pandas\n",
    "from bokeh.plotting import figure\n",
    "from bokeh.io import output_file, show\n",
    "import pandas\n",
    "\n",
    "#Data for line graph\n",
    "df = pandas.read_csv(\"Resources\\data.csv\")\n",
    "x = df['x']\n",
    "y = df['y']\n",
    "\n",
    "#preparing the output file\n",
    "output_file(\"lineGraph.html\")\n",
    "\n",
    "#create a figure object\n",
    "f=figure()\n",
    "\n",
    "#create a line plot\n",
    "f.line(x,y)\n",
    "\n",
    "show(f)\n",
    "\n"
   ]
  },
  {
   "cell_type": "code",
   "execution_count": 11,
   "id": "ec2da6fd",
   "metadata": {},
   "outputs": [],
   "source": [
    "#creating a basic bokeh line graph form csv file ( wih multiple data )\n",
    "\n",
    "#importing bokeh and pandas\n",
    "from bokeh.plotting import figure\n",
    "from bokeh.io import output_file, show\n",
    "import pandas\n",
    "\n",
    "#Data for line graph\n",
    "\n",
    "df = pandas.read_csv(\"Resources/bachelors.csv\")\n",
    "x = df['Year']\n",
    "y = df['Engineering']\n",
    "\n",
    "\n",
    "\n",
    "#create a figure object\n",
    "f=figure()\n",
    "\n",
    "f.title.text=\"Cool Data\"\n",
    "f.title.text_color=\"Red\"\n",
    "f.title.text_font=\"times\"\n",
    "f.title.text_font_style=\"bold\"\n",
    "f.xaxis.minor_tick_line_color= None\n",
    "f.yaxis.minor_tick_line_color=None\n",
    "f.xaxis.axis_label=\"Year\"\n",
    "f.yaxis.axis_label=\"No. of Engineering Degree Received\"\n",
    "\n",
    "#create a line plot\n",
    "f.line(x,y)\n",
    "\n",
    "#preparing the output file\n",
    "output_file(\"EnginneringLineGraph.html\")\n",
    "\n",
    "show(f)\n",
    "\n"
   ]
  },
  {
   "cell_type": "code",
   "execution_count": 13,
   "id": "4d0086ea",
   "metadata": {},
   "outputs": [
    {
     "ename": "AttributeError",
     "evalue": "unexpected attribute 'title_text_font' to Figure, similar attributes are title_location",
     "output_type": "error",
     "traceback": [
      "\u001b[1;31m---------------------------------------------------------------------------\u001b[0m",
      "\u001b[1;31mAttributeError\u001b[0m                            Traceback (most recent call last)",
      "\u001b[1;32m~\\AppData\\Local\\Temp/ipykernel_6100/3429138948.py\u001b[0m in \u001b[0;36m<module>\u001b[1;34m\u001b[0m\n\u001b[0;32m      5\u001b[0m \u001b[0mp\u001b[0m\u001b[1;33m.\u001b[0m\u001b[0mtitle\u001b[0m \u001b[1;33m=\u001b[0m \u001b[1;34m'Earthquake'\u001b[0m\u001b[1;33m\u001b[0m\u001b[1;33m\u001b[0m\u001b[0m\n\u001b[0;32m      6\u001b[0m \u001b[0mp\u001b[0m\u001b[1;33m.\u001b[0m\u001b[0mtitle\u001b[0m\u001b[1;33m.\u001b[0m\u001b[0mtext_color\u001b[0m \u001b[1;33m=\u001b[0m \u001b[1;34m'Orange'\u001b[0m\u001b[1;33m\u001b[0m\u001b[1;33m\u001b[0m\u001b[0m\n\u001b[1;32m----> 7\u001b[1;33m \u001b[0mp\u001b[0m\u001b[1;33m.\u001b[0m\u001b[0mtitle_text_font\u001b[0m \u001b[1;33m=\u001b[0m \u001b[1;34m'times'\u001b[0m\u001b[1;33m\u001b[0m\u001b[1;33m\u001b[0m\u001b[0m\n\u001b[0m\u001b[0;32m      8\u001b[0m \u001b[0mp\u001b[0m\u001b[1;33m.\u001b[0m\u001b[0mtitle_text_font_style\u001b[0m \u001b[1;33m=\u001b[0m \u001b[1;34m'italic'\u001b[0m\u001b[1;33m\u001b[0m\u001b[1;33m\u001b[0m\u001b[0m\n\u001b[0;32m      9\u001b[0m \u001b[1;33m\u001b[0m\u001b[0m\n",
      "\u001b[1;32m~\\AppData\\Roaming\\Python\\Python39\\site-packages\\bokeh\\core\\has_props.py\u001b[0m in \u001b[0;36m__setattr__\u001b[1;34m(self, name, value)\u001b[0m\n\u001b[0;32m    234\u001b[0m             \u001b[1;32mreturn\u001b[0m \u001b[0msuper\u001b[0m\u001b[1;33m(\u001b[0m\u001b[1;33m)\u001b[0m\u001b[1;33m.\u001b[0m\u001b[0m__setattr__\u001b[0m\u001b[1;33m(\u001b[0m\u001b[0mname\u001b[0m\u001b[1;33m,\u001b[0m \u001b[0mvalue\u001b[0m\u001b[1;33m)\u001b[0m\u001b[1;33m\u001b[0m\u001b[1;33m\u001b[0m\u001b[0m\n\u001b[0;32m    235\u001b[0m \u001b[1;33m\u001b[0m\u001b[0m\n\u001b[1;32m--> 236\u001b[1;33m         \u001b[0mself\u001b[0m\u001b[1;33m.\u001b[0m\u001b[0m_raise_attribute_error_with_matches\u001b[0m\u001b[1;33m(\u001b[0m\u001b[0mname\u001b[0m\u001b[1;33m,\u001b[0m \u001b[0mproperties\u001b[0m\u001b[1;33m)\u001b[0m\u001b[1;33m\u001b[0m\u001b[1;33m\u001b[0m\u001b[0m\n\u001b[0m\u001b[0;32m    237\u001b[0m \u001b[1;33m\u001b[0m\u001b[0m\n\u001b[0;32m    238\u001b[0m     \u001b[1;32mdef\u001b[0m \u001b[0m__getattr__\u001b[0m\u001b[1;33m(\u001b[0m\u001b[0mself\u001b[0m\u001b[1;33m,\u001b[0m \u001b[0mname\u001b[0m\u001b[1;33m:\u001b[0m \u001b[0mstr\u001b[0m\u001b[1;33m)\u001b[0m \u001b[1;33m->\u001b[0m \u001b[0mUnknown\u001b[0m\u001b[1;33m:\u001b[0m\u001b[1;33m\u001b[0m\u001b[1;33m\u001b[0m\u001b[0m\n",
      "\u001b[1;32m~\\AppData\\Roaming\\Python\\Python39\\site-packages\\bokeh\\core\\has_props.py\u001b[0m in \u001b[0;36m_raise_attribute_error_with_matches\u001b[1;34m(self, name, properties)\u001b[0m\n\u001b[0;32m    270\u001b[0m             \u001b[0mmatches\u001b[0m\u001b[1;33m,\u001b[0m \u001b[0mtext\u001b[0m \u001b[1;33m=\u001b[0m \u001b[0msorted\u001b[0m\u001b[1;33m(\u001b[0m\u001b[0mproperties\u001b[0m\u001b[1;33m)\u001b[0m\u001b[1;33m,\u001b[0m \u001b[1;34m\"possible\"\u001b[0m\u001b[1;33m\u001b[0m\u001b[1;33m\u001b[0m\u001b[0m\n\u001b[0;32m    271\u001b[0m \u001b[1;33m\u001b[0m\u001b[0m\n\u001b[1;32m--> 272\u001b[1;33m         \u001b[1;32mraise\u001b[0m \u001b[0mAttributeError\u001b[0m\u001b[1;33m(\u001b[0m\u001b[1;34mf\"unexpected attribute {name!r} to {self.__class__.__name__}, {text} attributes are {nice_join(matches)}\"\u001b[0m\u001b[1;33m)\u001b[0m\u001b[1;33m\u001b[0m\u001b[1;33m\u001b[0m\u001b[0m\n\u001b[0m\u001b[0;32m    273\u001b[0m \u001b[1;33m\u001b[0m\u001b[0m\n\u001b[0;32m    274\u001b[0m     \u001b[1;32mdef\u001b[0m \u001b[0m__str__\u001b[0m\u001b[1;33m(\u001b[0m\u001b[0mself\u001b[0m\u001b[1;33m)\u001b[0m \u001b[1;33m->\u001b[0m \u001b[0mstr\u001b[0m\u001b[1;33m:\u001b[0m\u001b[1;33m\u001b[0m\u001b[1;33m\u001b[0m\u001b[0m\n",
      "\u001b[1;31mAttributeError\u001b[0m: unexpected attribute 'title_text_font' to Figure, similar attributes are title_location"
     ]
    }
   ],
   "source": [
    "from bokeh.plotting import figure, output_file, show\n",
    "\n",
    "f = figure(plot_width=500,plot_height = 400,tools ='pan,resize',logo= None)\n",
    "\n",
    "f.title = 'Earthquake'\n",
    "f.title_text_color = 'orange'\n",
    "f.title_text_font = 'times'\n",
    "f.title_text_font_style = 'italic'\n",
    "\n",
    "f.yaxis.minor_tick_line_color = \"yellow\"\n",
    "\n",
    "f.xaxis.axis_label= 'Times'\n",
    "f.yaxis.axis_label = \"value\"\n",
    "\n",
    "f.circle([1,2,3,4,5], [5,6,5,5,3], size=[i *2 for i in [8, 12, 14, 15, 20]], color='red', alpha=0.5)\n",
    "output_file(\"scatter_plotting.html\")\n",
    "show(f)"
   ]
  }
 ],
 "metadata": {
  "kernelspec": {
   "display_name": "Python 3 (ipykernel)",
   "language": "python",
   "name": "python3"
  },
  "language_info": {
   "codemirror_mode": {
    "name": "ipython",
    "version": 3
   },
   "file_extension": ".py",
   "mimetype": "text/x-python",
   "name": "python",
   "nbconvert_exporter": "python",
   "pygments_lexer": "ipython3",
   "version": "3.9.7"
  }
 },
 "nbformat": 4,
 "nbformat_minor": 5
}
