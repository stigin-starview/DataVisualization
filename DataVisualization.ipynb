{
 "cells": [
  {
   "cell_type": "code",
   "execution_count": 6,
   "id": "fa357ee8",
   "metadata": {},
   "outputs": [],
   "source": [
    "#creating a basic bokeh line graph (basic)\n",
    "\n",
    "#importing bokeh\n",
    "from bokeh.plotting import figure\n",
    "from bokeh.io import output_file, show\n",
    "\n",
    "#Data for line graph\n",
    "x = [1,2,3,4,5,6,7,8]\n",
    "y = [6,80,100,60,10,30,5,60]\n",
    "\n",
    "#preparing the output file\n",
    "output_file(\"lineGraph.html\")\n",
    "\n",
    "#create a figure object\n",
    "f=figure()\n",
    "\n",
    "#create a line plot\n",
    "f.triangle(x,y)\n",
    "\n",
    "show(f)\n",
    "\n"
   ]
  },
  {
   "cell_type": "code",
   "execution_count": 15,
   "id": "92542d3c",
   "metadata": {},
   "outputs": [],
   "source": [
    "#creating a basic bokeh line graph form csv file\n",
    "\n",
    "#importing bokeh and pandas\n",
    "from bokeh.plotting import figure\n",
    "from bokeh.io import output_file, show\n",
    "import pandas\n",
    "\n",
    "#Data for line graph\n",
    "df = pandas.read_csv(\"Resources\\data.csv\")\n",
    "x = df['x']\n",
    "y = df['y']\n",
    "\n",
    "#preparing the output file\n",
    "output_file(\"lineGraph.html\")\n",
    "\n",
    "#create a figure object\n",
    "f=figure()\n",
    "\n",
    "#create a line plot\n",
    "f.line(x,y)\n",
    "\n",
    "show(f)\n",
    "\n"
   ]
  },
  {
   "cell_type": "code",
   "execution_count": 14,
   "id": "ec2da6fd",
   "metadata": {},
   "outputs": [],
   "source": [
    "#creating a basic bokeh line graph form csv file ( wih multiple data )\n",
    "\n",
    "#importing bokeh and pandas\n",
    "from bokeh.plotting import figure\n",
    "from bokeh.io import output_file, show\n",
    "import pandas\n",
    "\n",
    "#Data for line graph\n",
    "\n",
    "df = pandas.read_csv(\"Resources/bachelors.csv\")\n",
    "x = df['Year']\n",
    "y = df['Engineering']\n",
    "\n",
    "\n",
    "\n",
    "#create a figure object\n",
    "f=figure()\n",
    "\n",
    "f.title.text=\"Cool Data\"\n",
    "f.title.text_color=\"Red\"\n",
    "f.title.text_font=\"times\"\n",
    "f.title.text_font_style=\"bold\"\n",
    "f.xaxis.minor_tick_line_color= None\n",
    "f.yaxis.minor_tick_line_color=None\n",
    "f.xaxis.axis_label=\"Year\"\n",
    "f.yaxis.axis_label=\"No. of Engineering Degree Received\"\n",
    "\n",
    "#create a line plot\n",
    "f.line(x,y)\n",
    "\n",
    "#preparing the output file\n",
    "output_file(\"EnginneringLineGraph.html\")\n",
    "\n",
    "show(f)\n",
    "\n"
   ]
  },
  {
   "cell_type": "code",
   "execution_count": null,
   "id": "43bb3c4c",
   "metadata": {},
   "outputs": [],
   "source": []
  }
 ],
 "metadata": {
  "kernelspec": {
   "display_name": "Python 3 (ipykernel)",
   "language": "python",
   "name": "python3"
  },
  "language_info": {
   "codemirror_mode": {
    "name": "ipython",
    "version": 3
   },
   "file_extension": ".py",
   "mimetype": "text/x-python",
   "name": "python",
   "nbconvert_exporter": "python",
   "pygments_lexer": "ipython3",
   "version": "3.9.7"
  }
 },
 "nbformat": 4,
 "nbformat_minor": 5
}
