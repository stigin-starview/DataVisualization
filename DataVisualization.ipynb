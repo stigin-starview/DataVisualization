{
 "cells": [
  {
   "cell_type": "code",
   "execution_count": 6,
   "id": "fa357ee8",
   "metadata": {},
   "outputs": [],
   "source": [
    "#creating a basic bokeh line graph (basic)\n",
    "\n",
    "#importing bokeh\n",
    "from bokeh.plotting import figure\n",
    "from bokeh.io import output_file, show\n",
    "\n",
    "#Data for line graph\n",
    "x = [1,2,3,4,5,6,7,8]\n",
    "y = [6,80,100,60,10,30,5,60]\n",
    "\n",
    "#preparing the output file\n",
    "output_file(\"lineGraph.html\")\n",
    "\n",
    "#vreate a figure object\n",
    "f=figure()\n",
    "\n",
    "#create a line plot\n",
    "f.triangle(x,y)\n",
    "\n",
    "show(f)\n",
    "\n"
   ]
  },
  {
   "cell_type": "code",
   "execution_count": 15,
   "id": "92542d3c",
   "metadata": {},
   "outputs": [],
   "source": [
    "#creating a basic bokeh line graph form csv file\n",
    "\n",
    "#importing bokeh and pandas\n",
    "from bokeh.plotting import figure\n",
    "from bokeh.io import output_file, show\n",
    "import pandas\n",
    "\n",
    "#Data for line graph\n",
    "df = pandas.read_csv(\"Resources\\data.csv\")\n",
    "x = df['x']\n",
    "y = df['y']\n",
    "\n",
    "#preparing the output file\n",
    "output_file(\"lineGraph.html\")\n",
    "\n",
    "#vreate a figure object\n",
    "f=figure()\n",
    "\n",
    "#create a line plot\n",
    "f.line(x,y)\n",
    "\n",
    "show(f)\n",
    "\n"
   ]
  },
  {
   "cell_type": "code",
   "execution_count": 22,
   "id": "ec2da6fd",
   "metadata": {},
   "outputs": [],
   "source": [
    "#creating a basic bokeh line graph form csv file ( wih multiple data )\n",
    "\n",
    "#importing bokeh and pandas\n",
    "from bokeh.plotting import figure\n",
    "from bokeh.io import output_file, show\n",
    "import pandas\n",
    "\n",
    "#Data for line graph\n",
    "df = pandas.read_csv(\"https://pythonizing.github.io/data/bachelors.csv\")\n",
    "x = df['Year']\n",
    "y = df['Engineering']\n",
    "\n",
    "#preparing the output file\n",
    "output_file(\"EnginneringLineGraph.html\")\n",
    "\n",
    "#vreate a figure object\n",
    "f=figure()\n",
    "\n",
    "#create a line plot\n",
    "f.line(x,y)\n",
    "\n",
    "show(f)\n",
    "\n"
   ]
  }
 ],
 "metadata": {
  "kernelspec": {
   "display_name": "Python 3 (ipykernel)",
   "language": "python",
   "name": "python3"
  },
  "language_info": {
   "codemirror_mode": {
    "name": "ipython",
    "version": 3
   },
   "file_extension": ".py",
   "mimetype": "text/x-python",
   "name": "python",
   "nbconvert_exporter": "python",
   "pygments_lexer": "ipython3",
   "version": "3.9.7"
  }
 },
 "nbformat": 4,
 "nbformat_minor": 5
}
