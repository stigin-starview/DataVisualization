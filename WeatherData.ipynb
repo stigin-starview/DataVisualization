{
 "cells": [
  {
   "cell_type": "code",
   "execution_count": 1,
   "id": "c6cb7cf9",
   "metadata": {},
   "outputs": [],
   "source": [
    "#creating a basic bokeh line graph form csv file ( wih multiple data )\n",
    "\n",
    "#importing bokeh and pandas\n",
    "from bokeh.plotting import figure\n",
    "from bokeh.io import output_file, show\n",
    "import pandas\n",
    "\n",
    "#Data for the line graph\n",
    "\n",
    "df = pandas.read_excel(\"Resources/WeatherData.xlsx\")\n",
    "\n",
    "x=df[\"Temperature\"]/10\n",
    "y=df[\"Pressure\"]/10\n",
    "\n",
    "\n",
    "\n",
    "#create a figure object\n",
    "f=figure(plot_width=800,plot_height=800, tools=('pan', 'box_zoom', 'reset', 'save', 'box_edit', 'help'))\n",
    "\n",
    "f.title.text=\"Temperature and Air Pressure\"\n",
    "f.title.text_color=\"Grey\"\n",
    "f.title.text_font=\"arial\"\n",
    "f.title.text_font_style=\"bold\"\n",
    "f.xaxis.minor_tick_line_color= None\n",
    "f.yaxis.minor_tick_line_color=None\n",
    "f.xaxis.axis_label=\"Temperature (°C)\"\n",
    "f.yaxis.axis_label=\"Pressure (hPa)\"\n",
    "\n",
    "#create a circle plot\n",
    "f.circle(x,y,size = 0.5)\n",
    "output_file(\"WeatherData.html\")\n",
    "show(f)\n"
   ]
  },
  {
   "cell_type": "code",
   "execution_count": null,
   "id": "dc3f3688",
   "metadata": {},
   "outputs": [],
   "source": []
  }
 ],
 "metadata": {
  "kernelspec": {
   "display_name": "Python 3 (ipykernel)",
   "language": "python",
   "name": "python3"
  },
  "language_info": {
   "codemirror_mode": {
    "name": "ipython",
    "version": 3
   },
   "file_extension": ".py",
   "mimetype": "text/x-python",
   "name": "python",
   "nbconvert_exporter": "python",
   "pygments_lexer": "ipython3",
   "version": "3.9.7"
  }
 },
 "nbformat": 4,
 "nbformat_minor": 5
}
