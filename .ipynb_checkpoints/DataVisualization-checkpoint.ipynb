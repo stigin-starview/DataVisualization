{
 "cells": [
  {
   "cell_type": "code",
   "execution_count": 6,
   "id": "cf1327f6",
   "metadata": {},
   "outputs": [],
   "source": [
    "#creating a basic bokeh line graph\n",
    "\n",
    "#importing bokeh\n",
    "from bokeh.plotting import figure\n",
    "from bokeh.io import output_file, show\n",
    "\n",
    "#Data for line graph\n",
    "x = [1,2,3,4,5,6,7,8]\n",
    "y = [6,80,100,60,10,30,5,60]\n",
    "\n",
    "#preparing the output file\n",
    "output_file(\"lineGraph.html\")\n",
    "\n",
    "#vreate a figure object\n",
    "f=figure()\n",
    "\n",
    "#create a line plot\n",
    "f.triangle(x,y)\n",
    "\n",
    "show(f)\n",
    "\n"
   ]
  },
  {
   "cell_type": "code",
   "execution_count": null,
   "id": "ed1655ac",
   "metadata": {},
   "outputs": [],
   "source": []
  }
 ],
 "metadata": {
  "kernelspec": {
   "display_name": "Python 3 (ipykernel)",
   "language": "python",
   "name": "python3"
  },
  "language_info": {
   "codemirror_mode": {
    "name": "ipython",
    "version": 3
   },
   "file_extension": ".py",
   "mimetype": "text/x-python",
   "name": "python",
   "nbconvert_exporter": "python",
   "pygments_lexer": "ipython3",
   "version": "3.9.7"
  }
 },
 "nbformat": 4,
 "nbformat_minor": 5
}
